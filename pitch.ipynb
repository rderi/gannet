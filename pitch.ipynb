{
 "cells": [
  {
   "cell_type": "code",
   "execution_count": 1,
   "metadata": {},
   "outputs": [],
   "source": [
    "import numpy as np\n",
    "import torch\n",
    "from individual import Individual\n",
    "from neural_network import NeuralNetwork\n",
    "from fitness import FitnessEvaluator\n",
    "from torch.utils.data import DataLoader\n",
    "from torchvision import datasets\n",
    "from torchvision.transforms import ToTensor\n",
    "from generation import Generation\n",
    "from evolution_parameters import EvolutionParameters\n",
    "from genome_parameters import GenomeParameters"
   ]
  },
  {
   "cell_type": "code",
   "execution_count": 8,
   "metadata": {},
   "outputs": [],
   "source": [
    "population_cnt = 100\n",
    "mutation_prob = 0.3\n",
    "crossover_prob = 0.1"
   ]
  },
  {
   "cell_type": "code",
   "execution_count": 9,
   "metadata": {},
   "outputs": [],
   "source": [
    "training_data = datasets.MNIST(\n",
    "    root=\"data\",\n",
    "    train=True,\n",
    "    download=True,\n",
    "    transform=ToTensor(),\n",
    ")\n",
    "\n",
    "# Download test data from open datasets.\n",
    "test_data = datasets.MNIST(\n",
    "    root=\"data\",\n",
    "    train=False,\n",
    "    download=True,\n",
    "    transform=ToTensor(),\n",
    ")"
   ]
  },
  {
   "cell_type": "code",
   "execution_count": 10,
   "metadata": {},
   "outputs": [],
   "source": [
    "evo_params = EvolutionParameters(mutation_prob, crossover_prob,\n",
    "                                 training_data, test_data,\n",
    "                                 torch.nn.CrossEntropyLoss(),\n",
    "                                 lambda x: torch.optim.SGD(x, lr=1e-3),\n",
    "                                 5,\n",
    "                                 input_layer=(torch.nn.Linear, 28*28),\n",
    "                                 output_layer=(torch.nn.Linear, 10))\n"
   ]
  },
  {
   "cell_type": "code",
   "execution_count": 16,
   "metadata": {},
   "outputs": [
    {
     "name": "stdout",
     "output_type": "stream",
     "text": [
      "Epoch 1\n",
      "-------------------------------\n",
      "loss: 2.282184  [   81/60000]\n",
      "loss: 2.268952  [ 8181/60000]\n",
      "loss: 2.266962  [16281/60000]\n",
      "loss: 2.261670  [24381/60000]\n",
      "loss: 2.237639  [32481/60000]\n",
      "loss: 2.223581  [40581/60000]\n",
      "loss: 2.172677  [48681/60000]\n",
      "loss: 2.168325  [56781/60000]\n",
      "Test Error: \n",
      " Accuracy: 57.9%, Avg loss: 2.177913 \n",
      "\n",
      "Epoch 2\n",
      "-------------------------------\n",
      "loss: 2.176386  [   81/60000]\n",
      "loss: 2.164509  [ 8181/60000]\n",
      "loss: 2.156650  [16281/60000]\n",
      "loss: 2.158869  [24381/60000]\n",
      "loss: 2.139601  [32481/60000]\n",
      "loss: 2.118990  [40581/60000]\n",
      "loss: 2.044760  [48681/60000]\n",
      "loss: 2.045491  [56781/60000]\n",
      "Test Error: \n",
      " Accuracy: 68.8%, Avg loss: 2.066206 \n",
      "\n",
      "Epoch 3\n",
      "-------------------------------\n",
      "loss: 2.066561  [   81/60000]\n",
      "loss: 2.054758  [ 8181/60000]\n",
      "loss: 2.038522  [16281/60000]\n",
      "loss: 2.048873  [24381/60000]\n",
      "loss: 2.034624  [32481/60000]\n",
      "loss: 2.003983  [40581/60000]\n",
      "loss: 1.905574  [48681/60000]\n",
      "loss: 1.909826  [56781/60000]\n",
      "Test Error: \n",
      " Accuracy: 73.0%, Avg loss: 1.942333 \n",
      "\n"
     ]
    },
    {
     "data": {
      "text/plain": [
       "{'params': <genome_parameters.GenomeParameters at 0x17fba9f10>,\n",
       " 'epochs': 3,\n",
       " 'batch_size': 81,\n",
       " 'hidden_layers': 1,\n",
       " 'activation_fns': [torch.nn.modules.activation.Hardswish],\n",
       " 'neuron_cnt': array([474])}"
      ]
     },
     "execution_count": 16,
     "metadata": {},
     "output_type": "execute_result"
    }
   ],
   "source": [
    "ind1 = Individual(evo_params, \n",
    "                            GenomeParameters(min_hidden_neurons=256, max_hidden_neurons=1024,\n",
    "                                             max_hidden_layers=10,\n",
    "                                             min_batch_size=64, min_epochs = 3, max_epochs=4),\n",
    "                            device='mps')\n",
    "vars(ind1.genome)\n",
    "\n"
   ]
  },
  {
   "cell_type": "code",
   "execution_count": 18,
   "metadata": {},
   "outputs": [
    {
     "name": "stdout",
     "output_type": "stream",
     "text": [
      "Epoch 1\n",
      "-------------------------------\n",
      "loss: 2.303667  [   94/60000]\n",
      "loss: 2.305027  [ 9494/60000]\n",
      "loss: 2.307988  [18894/60000]\n",
      "loss: 2.304666  [28294/60000]\n",
      "loss: 2.300043  [37694/60000]\n",
      "loss: 2.304569  [47094/60000]\n",
      "loss: 2.304672  [56494/60000]\n",
      "Test Error: \n",
      " Accuracy: 10.1%, Avg loss: 2.303464 \n",
      "\n",
      "Epoch 2\n",
      "-------------------------------\n",
      "loss: 2.302974  [   94/60000]\n",
      "loss: 2.304285  [ 9494/60000]\n",
      "loss: 2.307087  [18894/60000]\n",
      "loss: 2.304300  [28294/60000]\n",
      "loss: 2.299675  [37694/60000]\n",
      "loss: 2.304498  [47094/60000]\n",
      "loss: 2.304356  [56494/60000]\n",
      "Test Error: \n",
      " Accuracy: 10.1%, Avg loss: 2.303177 \n",
      "\n",
      "Epoch 3\n",
      "-------------------------------\n",
      "loss: 2.302340  [   94/60000]\n",
      "loss: 2.303607  [ 9494/60000]\n",
      "loss: 2.306258  [18894/60000]\n",
      "loss: 2.303973  [28294/60000]\n",
      "loss: 2.299346  [37694/60000]\n",
      "loss: 2.304450  [47094/60000]\n",
      "loss: 2.304074  [56494/60000]\n",
      "Test Error: \n",
      " Accuracy: 10.1%, Avg loss: 2.302924 \n",
      "\n"
     ]
    },
    {
     "data": {
      "text/plain": [
       "{'params': <genome_parameters.GenomeParameters at 0x17fc55910>,\n",
       " 'epochs': 3,\n",
       " 'batch_size': 94,\n",
       " 'hidden_layers': 6,\n",
       " 'activation_fns': [torch.nn.modules.activation.PReLU,\n",
       "  torch.nn.modules.linear.Linear,\n",
       "  torch.nn.modules.activation.Sigmoid,\n",
       "  torch.nn.modules.activation.Sigmoid,\n",
       "  torch.nn.modules.linear.Linear,\n",
       "  torch.nn.modules.activation.Softmin],\n",
       " 'neuron_cnt': array([949, 949, 470, 470, 470, 421])}"
      ]
     },
     "execution_count": 18,
     "metadata": {},
     "output_type": "execute_result"
    }
   ],
   "source": [
    "ind2 = Individual(evo_params, \n",
    "                            GenomeParameters(min_hidden_neurons=256, max_hidden_neurons=1024,\n",
    "                                             max_hidden_layers=10,\n",
    "                                             min_batch_size=64, min_epochs = 3, max_epochs=4),\n",
    "                            device='mps')\n",
    "vars(ind2.genome)\n",
    "\n"
   ]
  }
 ],
 "metadata": {
  "kernelspec": {
   "display_name": ".venv",
   "language": "python",
   "name": "python3"
  },
  "language_info": {
   "codemirror_mode": {
    "name": "ipython",
    "version": 3
   },
   "file_extension": ".py",
   "mimetype": "text/x-python",
   "name": "python",
   "nbconvert_exporter": "python",
   "pygments_lexer": "ipython3",
   "version": "3.12.2"
  }
 },
 "nbformat": 4,
 "nbformat_minor": 2
}
